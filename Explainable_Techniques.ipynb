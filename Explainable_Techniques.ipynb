{
  "nbformat": 4,
  "nbformat_minor": 0,
  "metadata": {
    "colab": {
      "provenance": [],
      "authorship_tag": "ABX9TyN7mi+p9P/2wA8vaSxDiTV4",
      "include_colab_link": true
    },
    "kernelspec": {
      "name": "python3",
      "display_name": "Python 3"
    },
    "language_info": {
      "name": "python"
    }
  },
  "cells": [
    {
      "cell_type": "markdown",
      "metadata": {
        "id": "view-in-github",
        "colab_type": "text"
      },
      "source": [
        "<a href=\"https://colab.research.google.com/github/afraa-n/XAI-Explainable-Techniques/blob/main/Explainable_Techniques.ipynb\" target=\"_parent\"><img src=\"https://colab.research.google.com/assets/colab-badge.svg\" alt=\"Open In Colab\"/></a>"
      ]
    },
    {
      "cell_type": "markdown",
      "source": [
        "# Assignment #5: Explainable Techniques\n",
        "\n",
        "In this notebook, we'll use LIME (Local Interpretable Model-agnostic Explanations) and SHAP (SHapley Additive exPlanations) to generate local explanations for individual predictions from a pre-trained ResNet34 model on the CIFAR-10 dataset.\n",
        "\n",
        "## 1. Setup and Imports"
      ],
      "metadata": {
        "id": "iftGJeyShoyp"
      }
    },
    {
      "cell_type": "code",
      "execution_count": 3,
      "metadata": {
        "id": "eI-Q1pixfO39"
      },
      "outputs": [],
      "source": [
        "# !pip install lime shap torch torchvision matplotlib numpy pillow\n",
        "\n",
        "import torch\n",
        "import torchvision\n",
        "import torchvision.transforms as transforms\n",
        "from torchvision.models import resnet34, ResNet34_Weights\n",
        "import numpy as np\n",
        "import matplotlib.pyplot as plt\n",
        "from lime import lime_image\n",
        "from lime.wrappers.scikit_image import SegmentationAlgorithm\n",
        "import shap\n",
        "from PIL import Image\n",
        "\n",
        "# Set random seed for reproducibility\n",
        "torch.manual_seed(42)\n",
        "np.random.seed(42)"
      ]
    },
    {
      "cell_type": "markdown",
      "source": [
        "## 2. Load and Preprocess CIFAR-10 Dataset  \n",
        "We will load the CIFAR-10 dataset and preprocess it for our ResNet34 model."
      ],
      "metadata": {
        "id": "zUimBe41hxFj"
      }
    },
    {
      "cell_type": "code",
      "source": [
        "# Define transforms\n",
        "transform = transforms.Compose([\n",
        "    transforms.Resize((224, 224)),\n",
        "    transforms.ToTensor(),\n",
        "    transforms.Normalize((0.5, 0.5, 0.5), (0.5, 0.5, 0.5))\n",
        "])\n",
        "\n",
        "# Load CIFAR-10 test dataset\n",
        "testset = torchvision.datasets.CIFAR10(root='./data', train=False, download=True, transform=transform)\n",
        "testloader = torch.utils.data.DataLoader(testset, batch_size=1, shuffle=False)\n",
        "\n",
        "# CIFAR-10 classes\n",
        "classes = ('plane', 'car', 'bird', 'cat', 'deer', 'dog', 'frog', 'horse', 'ship', 'truck')"
      ],
      "metadata": {
        "colab": {
          "base_uri": "https://localhost:8080/"
        },
        "id": "xnqiVzjkiJQE",
        "outputId": "a16603a9-b893-4749-f49b-c41a379bcf7f"
      },
      "execution_count": 4,
      "outputs": [
        {
          "output_type": "stream",
          "name": "stdout",
          "text": [
            "Downloading https://www.cs.toronto.edu/~kriz/cifar-10-python.tar.gz to ./data/cifar-10-python.tar.gz\n"
          ]
        },
        {
          "output_type": "stream",
          "name": "stderr",
          "text": [
            "100%|██████████| 170498071/170498071 [00:01<00:00, 102132982.28it/s]\n"
          ]
        },
        {
          "output_type": "stream",
          "name": "stdout",
          "text": [
            "Extracting ./data/cifar-10-python.tar.gz to ./data\n"
          ]
        }
      ]
    },
    {
      "cell_type": "markdown",
      "source": [
        "##3. Load Pre-trained ResNet34 Model\n",
        "We will use a pre-trained ResNet34 model and modify it for CIFAR-10 classification."
      ],
      "metadata": {
        "id": "LCPPs6d5iOSn"
      }
    },
    {
      "cell_type": "code",
      "source": [],
      "metadata": {
        "id": "XR2q5fVoignY"
      },
      "execution_count": null,
      "outputs": []
    }
  ]
}