{
  "nbformat": 4,
  "nbformat_minor": 0,
  "metadata": {
    "colab": {
      "provenance": [],
      "authorship_tag": "ABX9TyOjSQr7K9q0u+6WvfWijcjA",
      "include_colab_link": true
    },
    "kernelspec": {
      "name": "python3",
      "display_name": "Python 3"
    },
    "language_info": {
      "name": "python"
    },
    "widgets": {
      "application/vnd.jupyter.widget-state+json": {
        "e7cce5d54d53481a9447253d3a6047ed": {
          "model_module": "@jupyter-widgets/controls",
          "model_name": "HBoxModel",
          "model_module_version": "1.5.0",
          "state": {
            "_dom_classes": [],
            "_model_module": "@jupyter-widgets/controls",
            "_model_module_version": "1.5.0",
            "_model_name": "HBoxModel",
            "_view_count": null,
            "_view_module": "@jupyter-widgets/controls",
            "_view_module_version": "1.5.0",
            "_view_name": "HBoxView",
            "box_style": "",
            "children": [
              "IPY_MODEL_afdc7531934843b9b3eab8bcfb101903",
              "IPY_MODEL_e7b2a252859b4260b522a1a79f6ee4f9",
              "IPY_MODEL_f52b88cda9df4e5d91f7bb4ab2ae74c8"
            ],
            "layout": "IPY_MODEL_930156ba98ba488b829ca2f1994e80a4"
          }
        },
        "afdc7531934843b9b3eab8bcfb101903": {
          "model_module": "@jupyter-widgets/controls",
          "model_name": "HTMLModel",
          "model_module_version": "1.5.0",
          "state": {
            "_dom_classes": [],
            "_model_module": "@jupyter-widgets/controls",
            "_model_module_version": "1.5.0",
            "_model_name": "HTMLModel",
            "_view_count": null,
            "_view_module": "@jupyter-widgets/controls",
            "_view_module_version": "1.5.0",
            "_view_name": "HTMLView",
            "description": "",
            "description_tooltip": null,
            "layout": "IPY_MODEL_cb44c9f3ecba4637a6c5a35b9935246f",
            "placeholder": "​",
            "style": "IPY_MODEL_9dbc1b79d6bd45429a547feec4cc2092",
            "value": "100%"
          }
        },
        "e7b2a252859b4260b522a1a79f6ee4f9": {
          "model_module": "@jupyter-widgets/controls",
          "model_name": "FloatProgressModel",
          "model_module_version": "1.5.0",
          "state": {
            "_dom_classes": [],
            "_model_module": "@jupyter-widgets/controls",
            "_model_module_version": "1.5.0",
            "_model_name": "FloatProgressModel",
            "_view_count": null,
            "_view_module": "@jupyter-widgets/controls",
            "_view_module_version": "1.5.0",
            "_view_name": "ProgressView",
            "bar_style": "success",
            "description": "",
            "description_tooltip": null,
            "layout": "IPY_MODEL_97c0af8fd0854a56bf035a2cfb883778",
            "max": 1000,
            "min": 0,
            "orientation": "horizontal",
            "style": "IPY_MODEL_6858463ef5ff4adf84ecc8ccfe295a7b",
            "value": 1000
          }
        },
        "f52b88cda9df4e5d91f7bb4ab2ae74c8": {
          "model_module": "@jupyter-widgets/controls",
          "model_name": "HTMLModel",
          "model_module_version": "1.5.0",
          "state": {
            "_dom_classes": [],
            "_model_module": "@jupyter-widgets/controls",
            "_model_module_version": "1.5.0",
            "_model_name": "HTMLModel",
            "_view_count": null,
            "_view_module": "@jupyter-widgets/controls",
            "_view_module_version": "1.5.0",
            "_view_name": "HTMLView",
            "description": "",
            "description_tooltip": null,
            "layout": "IPY_MODEL_0ab2204920ae4bffb64365cde7f1b455",
            "placeholder": "​",
            "style": "IPY_MODEL_625e0aad7ecd4f77a22fbfc1a41fdffd",
            "value": " 1000/1000 [02:06&lt;00:00, 11.20it/s]"
          }
        },
        "930156ba98ba488b829ca2f1994e80a4": {
          "model_module": "@jupyter-widgets/base",
          "model_name": "LayoutModel",
          "model_module_version": "1.2.0",
          "state": {
            "_model_module": "@jupyter-widgets/base",
            "_model_module_version": "1.2.0",
            "_model_name": "LayoutModel",
            "_view_count": null,
            "_view_module": "@jupyter-widgets/base",
            "_view_module_version": "1.2.0",
            "_view_name": "LayoutView",
            "align_content": null,
            "align_items": null,
            "align_self": null,
            "border": null,
            "bottom": null,
            "display": null,
            "flex": null,
            "flex_flow": null,
            "grid_area": null,
            "grid_auto_columns": null,
            "grid_auto_flow": null,
            "grid_auto_rows": null,
            "grid_column": null,
            "grid_gap": null,
            "grid_row": null,
            "grid_template_areas": null,
            "grid_template_columns": null,
            "grid_template_rows": null,
            "height": null,
            "justify_content": null,
            "justify_items": null,
            "left": null,
            "margin": null,
            "max_height": null,
            "max_width": null,
            "min_height": null,
            "min_width": null,
            "object_fit": null,
            "object_position": null,
            "order": null,
            "overflow": null,
            "overflow_x": null,
            "overflow_y": null,
            "padding": null,
            "right": null,
            "top": null,
            "visibility": null,
            "width": null
          }
        },
        "cb44c9f3ecba4637a6c5a35b9935246f": {
          "model_module": "@jupyter-widgets/base",
          "model_name": "LayoutModel",
          "model_module_version": "1.2.0",
          "state": {
            "_model_module": "@jupyter-widgets/base",
            "_model_module_version": "1.2.0",
            "_model_name": "LayoutModel",
            "_view_count": null,
            "_view_module": "@jupyter-widgets/base",
            "_view_module_version": "1.2.0",
            "_view_name": "LayoutView",
            "align_content": null,
            "align_items": null,
            "align_self": null,
            "border": null,
            "bottom": null,
            "display": null,
            "flex": null,
            "flex_flow": null,
            "grid_area": null,
            "grid_auto_columns": null,
            "grid_auto_flow": null,
            "grid_auto_rows": null,
            "grid_column": null,
            "grid_gap": null,
            "grid_row": null,
            "grid_template_areas": null,
            "grid_template_columns": null,
            "grid_template_rows": null,
            "height": null,
            "justify_content": null,
            "justify_items": null,
            "left": null,
            "margin": null,
            "max_height": null,
            "max_width": null,
            "min_height": null,
            "min_width": null,
            "object_fit": null,
            "object_position": null,
            "order": null,
            "overflow": null,
            "overflow_x": null,
            "overflow_y": null,
            "padding": null,
            "right": null,
            "top": null,
            "visibility": null,
            "width": null
          }
        },
        "9dbc1b79d6bd45429a547feec4cc2092": {
          "model_module": "@jupyter-widgets/controls",
          "model_name": "DescriptionStyleModel",
          "model_module_version": "1.5.0",
          "state": {
            "_model_module": "@jupyter-widgets/controls",
            "_model_module_version": "1.5.0",
            "_model_name": "DescriptionStyleModel",
            "_view_count": null,
            "_view_module": "@jupyter-widgets/base",
            "_view_module_version": "1.2.0",
            "_view_name": "StyleView",
            "description_width": ""
          }
        },
        "97c0af8fd0854a56bf035a2cfb883778": {
          "model_module": "@jupyter-widgets/base",
          "model_name": "LayoutModel",
          "model_module_version": "1.2.0",
          "state": {
            "_model_module": "@jupyter-widgets/base",
            "_model_module_version": "1.2.0",
            "_model_name": "LayoutModel",
            "_view_count": null,
            "_view_module": "@jupyter-widgets/base",
            "_view_module_version": "1.2.0",
            "_view_name": "LayoutView",
            "align_content": null,
            "align_items": null,
            "align_self": null,
            "border": null,
            "bottom": null,
            "display": null,
            "flex": null,
            "flex_flow": null,
            "grid_area": null,
            "grid_auto_columns": null,
            "grid_auto_flow": null,
            "grid_auto_rows": null,
            "grid_column": null,
            "grid_gap": null,
            "grid_row": null,
            "grid_template_areas": null,
            "grid_template_columns": null,
            "grid_template_rows": null,
            "height": null,
            "justify_content": null,
            "justify_items": null,
            "left": null,
            "margin": null,
            "max_height": null,
            "max_width": null,
            "min_height": null,
            "min_width": null,
            "object_fit": null,
            "object_position": null,
            "order": null,
            "overflow": null,
            "overflow_x": null,
            "overflow_y": null,
            "padding": null,
            "right": null,
            "top": null,
            "visibility": null,
            "width": null
          }
        },
        "6858463ef5ff4adf84ecc8ccfe295a7b": {
          "model_module": "@jupyter-widgets/controls",
          "model_name": "ProgressStyleModel",
          "model_module_version": "1.5.0",
          "state": {
            "_model_module": "@jupyter-widgets/controls",
            "_model_module_version": "1.5.0",
            "_model_name": "ProgressStyleModel",
            "_view_count": null,
            "_view_module": "@jupyter-widgets/base",
            "_view_module_version": "1.2.0",
            "_view_name": "StyleView",
            "bar_color": null,
            "description_width": ""
          }
        },
        "0ab2204920ae4bffb64365cde7f1b455": {
          "model_module": "@jupyter-widgets/base",
          "model_name": "LayoutModel",
          "model_module_version": "1.2.0",
          "state": {
            "_model_module": "@jupyter-widgets/base",
            "_model_module_version": "1.2.0",
            "_model_name": "LayoutModel",
            "_view_count": null,
            "_view_module": "@jupyter-widgets/base",
            "_view_module_version": "1.2.0",
            "_view_name": "LayoutView",
            "align_content": null,
            "align_items": null,
            "align_self": null,
            "border": null,
            "bottom": null,
            "display": null,
            "flex": null,
            "flex_flow": null,
            "grid_area": null,
            "grid_auto_columns": null,
            "grid_auto_flow": null,
            "grid_auto_rows": null,
            "grid_column": null,
            "grid_gap": null,
            "grid_row": null,
            "grid_template_areas": null,
            "grid_template_columns": null,
            "grid_template_rows": null,
            "height": null,
            "justify_content": null,
            "justify_items": null,
            "left": null,
            "margin": null,
            "max_height": null,
            "max_width": null,
            "min_height": null,
            "min_width": null,
            "object_fit": null,
            "object_position": null,
            "order": null,
            "overflow": null,
            "overflow_x": null,
            "overflow_y": null,
            "padding": null,
            "right": null,
            "top": null,
            "visibility": null,
            "width": null
          }
        },
        "625e0aad7ecd4f77a22fbfc1a41fdffd": {
          "model_module": "@jupyter-widgets/controls",
          "model_name": "DescriptionStyleModel",
          "model_module_version": "1.5.0",
          "state": {
            "_model_module": "@jupyter-widgets/controls",
            "_model_module_version": "1.5.0",
            "_model_name": "DescriptionStyleModel",
            "_view_count": null,
            "_view_module": "@jupyter-widgets/base",
            "_view_module_version": "1.2.0",
            "_view_name": "StyleView",
            "description_width": ""
          }
        }
      }
    }
  },
  "cells": [
    {
      "cell_type": "markdown",
      "metadata": {
        "id": "view-in-github",
        "colab_type": "text"
      },
      "source": [
        "<a href=\"https://colab.research.google.com/github/afraa-n/XAI-Explainable-Techniques/blob/main/Explainable_Techniques.ipynb\" target=\"_parent\"><img src=\"https://colab.research.google.com/assets/colab-badge.svg\" alt=\"Open In Colab\"/></a>"
      ]
    },
    {
      "cell_type": "markdown",
      "source": [
        "# Assignment #5: Explainable Techniques\n",
        "\n",
        "In this notebook, we'll use LIME (Local Interpretable Model-agnostic Explanations) and SHAP (SHapley Additive exPlanations) to generate local explanations for individual predictions from a pre-trained ResNet34 model on the CIFAR-10 dataset.\n",
        "\n",
        "## 1. Setup and Imports"
      ],
      "metadata": {
        "id": "iftGJeyShoyp"
      }
    },
    {
      "cell_type": "markdown",
      "source": [
        "We import the libraries we need and we also set random seeds for reproducibility, ensuring the results remain consistent across different runs."
      ],
      "metadata": {
        "id": "ZeZq-Ne8qHk5"
      }
    },
    {
      "cell_type": "code",
      "source": [
        "# Import necessary libraries\n",
        "import torch\n",
        "import torchvision\n",
        "import torchvision.transforms as transforms\n",
        "from torchvision.models import resnet18\n",
        "import numpy as np\n",
        "import matplotlib.pyplot as plt\n",
        "from lime import lime_image\n",
        "from lime.wrappers.scikit_image import SegmentationAlgorithm\n",
        "from skimage.segmentation import mark_boundaries\n",
        "import warnings\n",
        "warnings.filterwarnings('ignore')\n",
        "\n",
        "# Set random seed for reproducibility\n",
        "torch.manual_seed(42)\n",
        "np.random.seed(42)"
      ],
      "metadata": {
        "id": "eLguz_Rilzlu"
      },
      "execution_count": 1,
      "outputs": []
    },
    {
      "cell_type": "markdown",
      "source": [
        "\n",
        "\n",
        "---\n",
        "\n"
      ],
      "metadata": {
        "id": "xCoCkcEevSoy"
      }
    },
    {
      "cell_type": "markdown",
      "source": [
        "##2. Data Loading and Transformation\n",
        "\n",
        "Here, we define the necessary data transformations for MNIST:\n",
        "\n",
        "a. Convert grayscale images to 3 channels to match the ResNet18 input.  \n",
        "b. Resize the images to 224x224 (the required input size for ResNet).  \n",
        "c. Normalize the pixel values with a mean and standard deviation of 0.5.  \n",
        "\n",
        "We then load the MNIST test dataset with the defined transformations and create a data loader to handle batch processing of images."
      ],
      "metadata": {
        "id": "KdoFWWdXqUja"
      }
    },
    {
      "cell_type": "code",
      "source": [
        "# Define the data transformation pipeline for the MNIST dataset\n",
        "# Convert images to 3 channels, resize to 224x224, convert to tensor, and normalize\n",
        "transform = transforms.Compose([\n",
        "    transforms.Grayscale(num_output_channels=3),  # Convert to 3 channels (ResNet expects RGB)\n",
        "    transforms.Resize((224, 224)),                # Resize to match ResNet input size\n",
        "    transforms.ToTensor(),\n",
        "    transforms.Normalize((0.5,), (0.5,))          # Normalize with mean=0.5, std=0.5 for MNIST\n",
        "])\n",
        "\n",
        "# Load the MNIST test dataset\n",
        "testset = torchvision.datasets.MNIST(root='./data', train=False, download=True, transform=transform)\n",
        "testloader = torch.utils.data.DataLoader(testset, batch_size=1, shuffle=False)"
      ],
      "metadata": {
        "id": "qfWLuiKiqhiT"
      },
      "execution_count": 2,
      "outputs": []
    },
    {
      "cell_type": "markdown",
      "source": [
        "\n",
        "\n",
        "---\n",
        "\n"
      ],
      "metadata": {
        "id": "cu0ZLWn0vRvZ"
      }
    },
    {
      "cell_type": "markdown",
      "source": [
        "##3. Load and Modify Pre-trained Model\n",
        "\n",
        "We then load the pre-trained ResNet18 model. Since ResNet18 was originally trained on the ImageNet dataset (with 1,000 classes), we modify its final fully connected layer to output 10 classes, matching the number of digits in the MNIST dataset."
      ],
      "metadata": {
        "id": "MX1vcM_8qooV"
      }
    },
    {
      "cell_type": "code",
      "source": [
        "# Load a pre-trained ResNet18 model\n",
        "model = resnet18(pretrained=True)\n",
        "\n",
        "# Modify the output layer for MNIST (10 output classes)\n",
        "model.fc = torch.nn.Linear(model.fc.in_features, 10)"
      ],
      "metadata": {
        "id": "uJZJKcV1q76L"
      },
      "execution_count": 3,
      "outputs": []
    },
    {
      "cell_type": "markdown",
      "source": [
        "\n",
        "\n",
        "---\n",
        "\n"
      ],
      "metadata": {
        "id": "oOaiKdcYvQy_"
      }
    },
    {
      "cell_type": "markdown",
      "source": [
        "##4. Set Model to Evaluation Mode\n",
        "\n",
        "We also set the model to evaluation mode using ``model.eval()`` to ensure that certain layers like dropout behave correctly during inference."
      ],
      "metadata": {
        "id": "-r8-UttYrU_Z"
      }
    },
    {
      "cell_type": "code",
      "source": [
        "# Move the model to GPU if available\n",
        "device = torch.device(\"cuda:0\" if torch.cuda.is_available() else \"cpu\")\n",
        "model = model.to(device)\n",
        "\n",
        "# Set the model to evaluation mode\n",
        "model.eval()"
      ],
      "metadata": {
        "colab": {
          "base_uri": "https://localhost:8080/"
        },
        "id": "l-ufV13srg_j",
        "outputId": "da68a259-93c8-42f3-dfdd-0cbf7dc0bf71"
      },
      "execution_count": 4,
      "outputs": [
        {
          "output_type": "execute_result",
          "data": {
            "text/plain": [
              "ResNet(\n",
              "  (conv1): Conv2d(3, 64, kernel_size=(7, 7), stride=(2, 2), padding=(3, 3), bias=False)\n",
              "  (bn1): BatchNorm2d(64, eps=1e-05, momentum=0.1, affine=True, track_running_stats=True)\n",
              "  (relu): ReLU(inplace=True)\n",
              "  (maxpool): MaxPool2d(kernel_size=3, stride=2, padding=1, dilation=1, ceil_mode=False)\n",
              "  (layer1): Sequential(\n",
              "    (0): BasicBlock(\n",
              "      (conv1): Conv2d(64, 64, kernel_size=(3, 3), stride=(1, 1), padding=(1, 1), bias=False)\n",
              "      (bn1): BatchNorm2d(64, eps=1e-05, momentum=0.1, affine=True, track_running_stats=True)\n",
              "      (relu): ReLU(inplace=True)\n",
              "      (conv2): Conv2d(64, 64, kernel_size=(3, 3), stride=(1, 1), padding=(1, 1), bias=False)\n",
              "      (bn2): BatchNorm2d(64, eps=1e-05, momentum=0.1, affine=True, track_running_stats=True)\n",
              "    )\n",
              "    (1): BasicBlock(\n",
              "      (conv1): Conv2d(64, 64, kernel_size=(3, 3), stride=(1, 1), padding=(1, 1), bias=False)\n",
              "      (bn1): BatchNorm2d(64, eps=1e-05, momentum=0.1, affine=True, track_running_stats=True)\n",
              "      (relu): ReLU(inplace=True)\n",
              "      (conv2): Conv2d(64, 64, kernel_size=(3, 3), stride=(1, 1), padding=(1, 1), bias=False)\n",
              "      (bn2): BatchNorm2d(64, eps=1e-05, momentum=0.1, affine=True, track_running_stats=True)\n",
              "    )\n",
              "  )\n",
              "  (layer2): Sequential(\n",
              "    (0): BasicBlock(\n",
              "      (conv1): Conv2d(64, 128, kernel_size=(3, 3), stride=(2, 2), padding=(1, 1), bias=False)\n",
              "      (bn1): BatchNorm2d(128, eps=1e-05, momentum=0.1, affine=True, track_running_stats=True)\n",
              "      (relu): ReLU(inplace=True)\n",
              "      (conv2): Conv2d(128, 128, kernel_size=(3, 3), stride=(1, 1), padding=(1, 1), bias=False)\n",
              "      (bn2): BatchNorm2d(128, eps=1e-05, momentum=0.1, affine=True, track_running_stats=True)\n",
              "      (downsample): Sequential(\n",
              "        (0): Conv2d(64, 128, kernel_size=(1, 1), stride=(2, 2), bias=False)\n",
              "        (1): BatchNorm2d(128, eps=1e-05, momentum=0.1, affine=True, track_running_stats=True)\n",
              "      )\n",
              "    )\n",
              "    (1): BasicBlock(\n",
              "      (conv1): Conv2d(128, 128, kernel_size=(3, 3), stride=(1, 1), padding=(1, 1), bias=False)\n",
              "      (bn1): BatchNorm2d(128, eps=1e-05, momentum=0.1, affine=True, track_running_stats=True)\n",
              "      (relu): ReLU(inplace=True)\n",
              "      (conv2): Conv2d(128, 128, kernel_size=(3, 3), stride=(1, 1), padding=(1, 1), bias=False)\n",
              "      (bn2): BatchNorm2d(128, eps=1e-05, momentum=0.1, affine=True, track_running_stats=True)\n",
              "    )\n",
              "  )\n",
              "  (layer3): Sequential(\n",
              "    (0): BasicBlock(\n",
              "      (conv1): Conv2d(128, 256, kernel_size=(3, 3), stride=(2, 2), padding=(1, 1), bias=False)\n",
              "      (bn1): BatchNorm2d(256, eps=1e-05, momentum=0.1, affine=True, track_running_stats=True)\n",
              "      (relu): ReLU(inplace=True)\n",
              "      (conv2): Conv2d(256, 256, kernel_size=(3, 3), stride=(1, 1), padding=(1, 1), bias=False)\n",
              "      (bn2): BatchNorm2d(256, eps=1e-05, momentum=0.1, affine=True, track_running_stats=True)\n",
              "      (downsample): Sequential(\n",
              "        (0): Conv2d(128, 256, kernel_size=(1, 1), stride=(2, 2), bias=False)\n",
              "        (1): BatchNorm2d(256, eps=1e-05, momentum=0.1, affine=True, track_running_stats=True)\n",
              "      )\n",
              "    )\n",
              "    (1): BasicBlock(\n",
              "      (conv1): Conv2d(256, 256, kernel_size=(3, 3), stride=(1, 1), padding=(1, 1), bias=False)\n",
              "      (bn1): BatchNorm2d(256, eps=1e-05, momentum=0.1, affine=True, track_running_stats=True)\n",
              "      (relu): ReLU(inplace=True)\n",
              "      (conv2): Conv2d(256, 256, kernel_size=(3, 3), stride=(1, 1), padding=(1, 1), bias=False)\n",
              "      (bn2): BatchNorm2d(256, eps=1e-05, momentum=0.1, affine=True, track_running_stats=True)\n",
              "    )\n",
              "  )\n",
              "  (layer4): Sequential(\n",
              "    (0): BasicBlock(\n",
              "      (conv1): Conv2d(256, 512, kernel_size=(3, 3), stride=(2, 2), padding=(1, 1), bias=False)\n",
              "      (bn1): BatchNorm2d(512, eps=1e-05, momentum=0.1, affine=True, track_running_stats=True)\n",
              "      (relu): ReLU(inplace=True)\n",
              "      (conv2): Conv2d(512, 512, kernel_size=(3, 3), stride=(1, 1), padding=(1, 1), bias=False)\n",
              "      (bn2): BatchNorm2d(512, eps=1e-05, momentum=0.1, affine=True, track_running_stats=True)\n",
              "      (downsample): Sequential(\n",
              "        (0): Conv2d(256, 512, kernel_size=(1, 1), stride=(2, 2), bias=False)\n",
              "        (1): BatchNorm2d(512, eps=1e-05, momentum=0.1, affine=True, track_running_stats=True)\n",
              "      )\n",
              "    )\n",
              "    (1): BasicBlock(\n",
              "      (conv1): Conv2d(512, 512, kernel_size=(3, 3), stride=(1, 1), padding=(1, 1), bias=False)\n",
              "      (bn1): BatchNorm2d(512, eps=1e-05, momentum=0.1, affine=True, track_running_stats=True)\n",
              "      (relu): ReLU(inplace=True)\n",
              "      (conv2): Conv2d(512, 512, kernel_size=(3, 3), stride=(1, 1), padding=(1, 1), bias=False)\n",
              "      (bn2): BatchNorm2d(512, eps=1e-05, momentum=0.1, affine=True, track_running_stats=True)\n",
              "    )\n",
              "  )\n",
              "  (avgpool): AdaptiveAvgPool2d(output_size=(1, 1))\n",
              "  (fc): Linear(in_features=512, out_features=10, bias=True)\n",
              ")"
            ]
          },
          "metadata": {},
          "execution_count": 4
        }
      ]
    },
    {
      "cell_type": "markdown",
      "source": [
        "\n",
        "\n",
        "---\n",
        "\n"
      ],
      "metadata": {
        "id": "PHyN5lCevPXM"
      }
    },
    {
      "cell_type": "markdown",
      "source": [
        "##5. Prediction Function\n",
        "\n",
        "The ``get_prediction()`` function takes an input image tensor, passes it through the model, and returns the predicted output in the form of a NumPy array. We use ``torch.no_grad()`` to avoid computing gradients, which is unnecessary for inference and saves memory."
      ],
      "metadata": {
        "id": "bQNyO-xIrmQk"
      }
    },
    {
      "cell_type": "code",
      "source": [
        "# This function takes in an input tensor and returns the model's predictions as a numpy array\n",
        "def get_prediction(input_tensor):\n",
        "    with torch.no_grad():\n",
        "        output = model(input_tensor.to(device))  # Forward pass without gradient calculation\n",
        "    return output.cpu().numpy()"
      ],
      "metadata": {
        "id": "bMLsTtS5rwvy"
      },
      "execution_count": 5,
      "outputs": []
    },
    {
      "cell_type": "markdown",
      "source": [
        "\n",
        "\n",
        "---\n",
        "\n"
      ],
      "metadata": {
        "id": "IEhbk6kbvOVi"
      }
    },
    {
      "cell_type": "markdown",
      "source": [
        "##6. Function to Convert Image Tensor to Numpy Array\n",
        "\n",
        "This function converts an image tensor from PyTorch format (channels-first, `C x H x W`) to NumPy format (height-first, `H x W x C`), which is important  for visualization in libraries like matplotlib."
      ],
      "metadata": {
        "id": "tUV1T-6Kr3F2"
      }
    },
    {
      "cell_type": "code",
      "source": [
        "def get_image(img):\n",
        "    return img.cpu().numpy().transpose((1, 2, 0))  # Convert from (C, H, W) to (H, W, C)"
      ],
      "metadata": {
        "id": "jgzjlmEKsL61"
      },
      "execution_count": 6,
      "outputs": []
    },
    {
      "cell_type": "markdown",
      "source": [
        "\n",
        "\n",
        "---\n",
        "\n"
      ],
      "metadata": {
        "id": "lZDG0PI5vNi_"
      }
    },
    {
      "cell_type": "markdown",
      "source": [
        "##7. LIME-Compatible Prediction Function\n",
        "\n",
        "This function is designed for LIME. It takes in a list of images in `(H, W, C)` format, preprocesses them (normalizes and converts them back to `C x H x W` format), and passes them through the model. The model’s predictions are then returned."
      ],
      "metadata": {
        "id": "gTk_ImXdsLj5"
      }
    },
    {
      "cell_type": "code",
      "source": [
        "# Prediction function for LIME - expects a list of images in (H, W, C) format\n",
        "def predict_fn(images):\n",
        "    preprocessed_images = []\n",
        "    for img in images:\n",
        "        img = img.transpose((2, 0, 1))  # Convert image format from (H, W, C) to (C, H, W)\n",
        "        img = torch.from_numpy(img).float()\n",
        "        img = transforms.Normalize((0.5,), (0.5,))(img)  # Apply the same normalization as during training\n",
        "        preprocessed_images.append(img)\n",
        "    batch = torch.stack(preprocessed_images)  # Stack images into a batch\n",
        "    return get_prediction(batch)  # Get the model's predictions"
      ],
      "metadata": {
        "id": "hTg9bSLusbUK"
      },
      "execution_count": 7,
      "outputs": []
    },
    {
      "cell_type": "markdown",
      "source": [
        "\n",
        "\n",
        "---\n",
        "\n"
      ],
      "metadata": {
        "id": "A3urPi7avMtc"
      }
    },
    {
      "cell_type": "markdown",
      "source": [
        "##8. Select a Single Image and Generate Model Prediction\n",
        "\n",
        "We then fetch a single image and its label from the test set. We pass the image through the model using the `get_prediction()` function to obtain the model’s prediction. We use `np.argmax()` to extract the class label (digit) with the highest predicted probability."
      ],
      "metadata": {
        "id": "yM3uJbqasfUD"
      }
    },
    {
      "cell_type": "code",
      "source": [
        "# Get a single image and its label from the test set\n",
        "dataiter = iter(testloader)\n",
        "image, label = next(dataiter)\n",
        "\n",
        "# Get the model's prediction for this image\n",
        "pred = get_prediction(image)[0]  # Get the prediction as an array\n",
        "pred_label = np.argmax(pred)  # Get the predicted label (digit)"
      ],
      "metadata": {
        "id": "y9jHPPXfsrFy"
      },
      "execution_count": 8,
      "outputs": []
    },
    {
      "cell_type": "markdown",
      "source": [
        "\n",
        "\n",
        "---\n",
        "\n"
      ],
      "metadata": {
        "id": "4_5EVLrNvLuz"
      }
    },
    {
      "cell_type": "markdown",
      "source": [
        "##9. Initialize LIME and Generate Explanation\n",
        "\n",
        "We initialize the LIME explainer and the segmentation algorithm. We then generate an explanation for the selected image, specifying the prediction function (`predict_fn`) and the number of samples for perturbations. The explanation highlights the regions in the image that most influenced the model's prediction."
      ],
      "metadata": {
        "id": "uF9whRUTsu-V"
      }
    },
    {
      "cell_type": "code",
      "source": [
        "# Initialize the LIME explainer and the segmentation algorithm\n",
        "explainer = lime_image.LimeImageExplainer()\n",
        "segmenter = SegmentationAlgorithm('quickshift', kernel_size=4, max_dist=200, ratio=0.2)\n",
        "\n",
        "# Generate LIME explanation for the image\n",
        "explanation = explainer.explain_instance(get_image(image[0]).astype('double'),\n",
        "                                         predict_fn,  # Use our custom prediction function\n",
        "                                         top_labels=5,  # Consider top 5 classes for explanation\n",
        "                                         hide_color=0,  # Set background to black for regions not explained\n",
        "                                         num_samples=1000,  # Number of perturbations\n",
        "                                         segmentation_fn=segmenter)\n",
        "\n",
        "# Get the image and the LIME mask (highlighted areas of the image)\n",
        "img, mask = explanation.get_image_and_mask(pred_label, positive_only=True, num_features=5, hide_rest=True)"
      ],
      "metadata": {
        "colab": {
          "base_uri": "https://localhost:8080/",
          "height": 49,
          "referenced_widgets": [
            "e7cce5d54d53481a9447253d3a6047ed",
            "afdc7531934843b9b3eab8bcfb101903",
            "e7b2a252859b4260b522a1a79f6ee4f9",
            "f52b88cda9df4e5d91f7bb4ab2ae74c8",
            "930156ba98ba488b829ca2f1994e80a4",
            "cb44c9f3ecba4637a6c5a35b9935246f",
            "9dbc1b79d6bd45429a547feec4cc2092",
            "97c0af8fd0854a56bf035a2cfb883778",
            "6858463ef5ff4adf84ecc8ccfe295a7b",
            "0ab2204920ae4bffb64365cde7f1b455",
            "625e0aad7ecd4f77a22fbfc1a41fdffd"
          ]
        },
        "id": "ShQo5xLps8FE",
        "outputId": "75f641ed-fe68-49bc-fe4f-122957ddca00"
      },
      "execution_count": 9,
      "outputs": [
        {
          "output_type": "display_data",
          "data": {
            "text/plain": [
              "  0%|          | 0/1000 [00:00<?, ?it/s]"
            ],
            "application/vnd.jupyter.widget-view+json": {
              "version_major": 2,
              "version_minor": 0,
              "model_id": "e7cce5d54d53481a9447253d3a6047ed"
            }
          },
          "metadata": {}
        }
      ]
    },
    {
      "cell_type": "markdown",
      "source": [
        "\n",
        "\n",
        "---\n",
        "\n"
      ],
      "metadata": {
        "id": "IQBHPRj-vKie"
      }
    },
    {
      "cell_type": "markdown",
      "source": [
        "##10. Visualize Original Image and LIME Explanation\n",
        "\n",
        "Finally, we visualize the original image from the MNIST dataset as well as the LIME explanation which highlights the most important regions that contributed to the model’s prediction."
      ],
      "metadata": {
        "id": "pCBLbV-0tELN"
      }
    },
    {
      "cell_type": "code",
      "source": [
        "# Visualize the original image and the LIME explanation side by side\n",
        "plt.figure(figsize=(12, 6))\n",
        "\n",
        "# Original image\n",
        "plt.subplot(1, 2, 1)\n",
        "plt.imshow(get_image(image[0]), cmap='gray')\n",
        "plt.title(f\"Original Image\\nTrue Label: {label.item()}, Predicted Label: {pred_label}\")\n",
        "plt.axis('off')\n",
        "\n",
        "# LIME Explanation\n",
        "plt.subplot(1, 2, 2)\n",
        "plt.imshow(mark_boundaries(img / 2 + 0.5, mask))\n",
        "plt.title(\"LIME Explanation\")\n",
        "plt.axis('off')\n",
        "\n",
        "plt.tight_layout()\n",
        "plt.show()"
      ],
      "metadata": {
        "colab": {
          "base_uri": "https://localhost:8080/",
          "height": 644
        },
        "id": "IopeTnREtBow",
        "outputId": "8b12dded-6e24-4eea-e6c1-af7347ecd47e"
      },
      "execution_count": 10,
      "outputs": [
        {
          "output_type": "stream",
          "name": "stderr",
          "text": [
            "WARNING:matplotlib.image:Clipping input data to the valid range for imshow with RGB data ([0..1] for floats or [0..255] for integers).\n"
          ]
        },
        {
          "output_type": "display_data",
          "data": {
            "text/plain": [
              "<Figure size 1200x600 with 2 Axes>"
            ],
            "image/png": "[encoded data removed]"
          },
          "metadata": {}
        }
      ]
    },
    {
      "cell_type": "markdown",
      "source": [
        "In the visualization, there are two panels that help us understand what the model is doing:\n",
        "\n",
        "**Left panel - \"Original Image\":** This shows a handwritten digit \"7\" where the actual label for the image is 7, but the model mistakenly predicted it as 1.\n",
        "\n",
        "**Right panel - \"LIME Explanation\":** On this side, we see how LIME explains why the model made this mistake. The gray background and the yellow outline highlight which parts of the digit were most important to the model's prediction. The black areas inside the outline show the parts of the image that had the most influence on the model’s decision.\n",
        "\n",
        "The LIME explanation helps us see why the model might have confused the \"7\" with a \"1.\" It looks like the model may have focused a lot on the vertical line of the 7, which is very similar to the shape of a 1. The model didn't seem to care as much about the horizontal line at the top of the 7, which might have caused the misclassification. This visualization is useful because it gives us a better understanding of why the model made a mistake. It shows that the model needs more training to learn how to tell 7s and 1s apart, especially when the 7 has a strong vertical part. By looking at this, we can figure out where the model needs to improve."
      ],
      "metadata": {
        "id": "h0955iYNukPr"
      }
    },
    {
      "cell_type": "markdown",
      "source": [
        "\n",
        "\n",
        "---\n",
        "\n"
      ],
      "metadata": {
        "id": "wH0D5ocwvI8w"
      }
    },
    {
      "cell_type": "markdown",
      "source": [
        "## Discussion: Why I Chose LIME\n",
        "For this assignment, I chose LIME (Local Interpretable Model-agnostic Explanations) as the explanation technique for the following reasons:\n",
        "\n",
        "####**Strengths:**    \n",
        "\n",
        "a. Model-agnostic: LIME works with any black-box model, making it versatile for explaining complex architectures like ResNet.\n",
        "b. Local Explanations: It focuses on explaining individual predictions, providing detailed insights into how the model handles specific inputs.\n",
        "c. Visual Intuition: It offers easy-to-understand visual explanations, especially for image classification tasks.\n",
        "\n",
        "####**Limitations:**  \n",
        "\n",
        "a. Computationally Expensive: Generating explanations using LIME can be slow, especially for large datasets or complex models.\n",
        "b Hyperparameter Sensitivity: Results can vary depending on the choice of segmentation algorithm and the number of perturbation samples.\n",
        "\n",
        "####**Potential Improvements:**  \n",
        "a. Experiment with different segmentation algorithms to see if the explanations change.  \n",
        "b. Test other explanation techniques like SHAP or Anchors to compare their performance on this task.  \n",
        "c. Analyze a broader range of images from the test set to understand global model behavior better.\n"
      ],
      "metadata": {
        "id": "gStIS5JLtXR8"
      }
    }
  ]
}